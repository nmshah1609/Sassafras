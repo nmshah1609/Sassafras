{
 "cells": [
  {
   "cell_type": "markdown",
   "metadata": {},
   "source": [
    "# Start pre-processing for x_train and x_test"
   ]
  },
  {
   "cell_type": "code",
   "execution_count": 20,
   "metadata": {},
   "outputs": [],
   "source": [
    "# initializations\n",
    "import os\n",
    "import pandas as pd\n",
    "import numpy as np"
   ]
  },
  {
   "cell_type": "code",
   "execution_count": 21,
   "metadata": {},
   "outputs": [
    {
     "name": "stderr",
     "output_type": "stream",
     "text": [
      "C:\\Users\\LYC\\anaconda3\\lib\\site-packages\\IPython\\core\\interactiveshell.py:3071: DtypeWarning: Columns (17) have mixed types.Specify dtype option on import or set low_memory=False.\n",
      "  has_raised = await self.run_ast_nodes(code_ast.body, cell_name,\n"
     ]
    }
   ],
   "source": [
    "# Load original dataset\n",
    "# change to your appropriate directory\n",
    "os.chdir(\"C:\\\\Users\\\\LYC\\\\Desktop\\\\SFU\\\\Fall 2020 Courses\\\\STAT 440\\\\Module 2\")\n",
    "\n",
    "x_train = pd.read_csv(\"Xtrain.txt\", delimiter = ' ')\n",
    "y_train = pd.read_csv(\"Ytrain.txt\", delimiter = ' ')\n",
    "x_test = pd.read_csv(\"Xtest.txt\", delimiter = ' ')\n",
    "y_test = pd.read_csv(\"Ytest.txt\", delimiter = ',')"
   ]
  },
  {
   "cell_type": "code",
   "execution_count": 47,
   "metadata": {},
   "outputs": [],
   "source": [
    "Id_x_train = x_train[\"Id\"]\n",
    "Id_x_test = x_test[\"Id\"]\n",
    "\n",
    "x = pd.concat([x_train,x_test],axis=0)"
   ]
  },
  {
   "cell_type": "code",
   "execution_count": 6,
   "metadata": {},
   "outputs": [],
   "source": [
    "def preprocessing(df):\n",
    "    \n",
    "    Id = df[\"Id\"]\n",
    "\n",
    "    df = df.replace(\"?\",np.NaN)\n",
    "    df[\"B15\"] = pd.to_numeric(df[\"B15\"])\n",
    "    column_names = np.array(df.columns)\n",
    "   \n",
    "    max_7s = np.array([])\n",
    "    \n",
    "    for i in range(len(column_names)):\n",
    "        df_7 = df.loc[df[column_names[i]] == 7]\n",
    "        max_7s = np.append(max_7s, df_7[\"Id\"])\n",
    "        \n",
    "    Id_max_7s = np.unique(max_7s)\n",
    "    \n",
    "    for i in Id_max_7s:\n",
    "        df.loc[df[\"Id\"] == i,\"outlier_7\"] = 1\n",
    "        \n",
    "    df['outlier_7'] = df['outlier_7'].fillna(0)\n",
    "    \n",
    "    df = df.drop(['Id'], axis=1)\n",
    "    \n",
    "    df = df.replace(7, np.NaN)\n",
    "    \n",
    "    df = pd.concat([Id,df],axis=1)\n",
    "    \n",
    "    negative_9s = np.array([])\n",
    "    \n",
    "    for i in range(len(column_names)):\n",
    "        df_9 = df.loc[df[column_names[i]] == -9]\n",
    "        negative_9s = np.append(negative_9s, df_9[\"Id\"])\n",
    "        \n",
    "    Id_negative_9s = np.unique(negative_9s)\n",
    "    \n",
    "    for i in Id_negative_9s:\n",
    "        df.loc[df[\"Id\"] == i,\"outlier_neg_9\"] = 1\n",
    "        \n",
    "    df['outlier_neg_9'] = df['outlier_neg_9'].fillna(0)\n",
    "    \n",
    "    df = df.replace(-9,np.NaN)\n",
    "    \n",
    "    \n",
    "    \n",
    "    F03_values = df[\"F03\"].unique()\n",
    "    F03_values = F03_values[np.logical_not(np.isnan(F03_values))]\n",
    "\n",
    "    F04_values = df[\"F04\"].unique()\n",
    "    F04_values = F04_values[np.logical_not(np.isnan(F04_values))]\n",
    "\n",
    "    F05_values = df[\"F05\"].unique()\n",
    "    F05_values = F05_values[np.logical_not(np.isnan(F05_values))]\n",
    "\n",
    "    G01_values = df[\"G01\"].unique()\n",
    "    G01_values = G01_values[np.logical_not(np.isnan(G01_values))]\n",
    "\n",
    "    G02_values = df[\"G02\"].unique()\n",
    "    G02_values = G02_values[np.logical_not(np.isnan(G02_values))]\n",
    "\n",
    "    G03_values = df[\"G03\"].unique()\n",
    "    G03_values = G03_values[np.logical_not(np.isnan(G03_values))]\n",
    "    \n",
    "    \n",
    "    df['F03'] = df['F03'].fillna(pd.Series(np.random.choice(F03_values, size=len(df.index))))\n",
    "    df['F04'] = df['F04'].fillna(pd.Series(np.random.choice(F04_values, size=len(df.index))))\n",
    "    df['F05'] = df['F05'].fillna(pd.Series(np.random.choice(F05_values, size=len(df.index))))\n",
    "    df['G01'] = df['G01'].fillna(pd.Series(np.random.choice(G01_values, size=len(df.index))))\n",
    "    df['G02'] = df['G02'].fillna(pd.Series(np.random.choice(G02_values, size=len(df.index))))\n",
    "    df['G03'] = df['G03'].fillna(pd.Series(np.random.choice(G03_values, size=len(df.index))))\n",
    "    \n",
    "    df.fillna(value=df.mean(), inplace=True)\n",
    "    \n",
    "    return(df)"
   ]
  },
  {
   "cell_type": "code",
   "execution_count": 7,
   "metadata": {},
   "outputs": [],
   "source": [
    "x = preprocessing(x)"
   ]
  },
  {
   "cell_type": "code",
   "execution_count": 11,
   "metadata": {},
   "outputs": [],
   "source": [
    "Id_x_train = np.array(Id_x_train)\n",
    "Id_x_test = np.array(Id_x_test)"
   ]
  },
  {
   "cell_type": "code",
   "execution_count": 12,
   "metadata": {},
   "outputs": [],
   "source": [
    "x_train = x.loc[x['Id'].isin(Id_x_train)]"
   ]
  },
  {
   "cell_type": "code",
   "execution_count": 13,
   "metadata": {},
   "outputs": [],
   "source": [
    "x_test = x.loc[x['Id'].isin(Id_x_test)]"
   ]
  },
  {
   "cell_type": "code",
   "execution_count": 16,
   "metadata": {},
   "outputs": [],
   "source": [
    "x_train.to_csv(\"x_train_preprocessed.csv\")"
   ]
  },
  {
   "cell_type": "code",
   "execution_count": 17,
   "metadata": {},
   "outputs": [],
   "source": [
    "x_test.to_csv(\"x_test_preprocessed.csv\")"
   ]
  },
  {
   "cell_type": "code",
   "execution_count": 15,
   "metadata": {},
   "outputs": [
    {
     "ename": "NameError",
     "evalue": "name 'x_test' is not defined",
     "output_type": "error",
     "traceback": [
      "\u001b[1;31m---------------------------------------------------------------------------\u001b[0m",
      "\u001b[1;31mNameError\u001b[0m                                 Traceback (most recent call last)",
      "\u001b[1;32m<ipython-input-15-17a04c274751>\u001b[0m in \u001b[0;36m<module>\u001b[1;34m\u001b[0m\n\u001b[1;32m----> 1\u001b[1;33m \u001b[0mx_test\u001b[0m\u001b[1;33m\u001b[0m\u001b[1;33m\u001b[0m\u001b[0m\n\u001b[0m",
      "\u001b[1;31mNameError\u001b[0m: name 'x_test' is not defined"
     ]
    }
   ],
   "source": []
  },
  {
   "cell_type": "markdown",
   "metadata": {},
   "source": [
    "# End pre-processing for x_train and x_test"
   ]
  },
  {
   "cell_type": "markdown",
   "metadata": {},
   "source": [
    " "
   ]
  },
  {
   "cell_type": "markdown",
   "metadata": {},
   "source": [
    " "
   ]
  },
  {
   "cell_type": "markdown",
   "metadata": {},
   "source": [
    "# Start pre-processing for y_train"
   ]
  },
  {
   "cell_type": "code",
   "execution_count": null,
   "metadata": {},
   "outputs": [],
   "source": [
    "# only update NaN values to column means\n",
    "# do not replace 7s and neg_9s because y_train is our prediction values to train on "
   ]
  },
  {
   "cell_type": "code",
   "execution_count": 11,
   "metadata": {},
   "outputs": [],
   "source": [
    "# initializations\n",
    "import os\n",
    "import pandas as pd\n",
    "import numpy as np\n",
    "from matplotlib import pyplot as plt"
   ]
  },
  {
   "cell_type": "code",
   "execution_count": 3,
   "metadata": {},
   "outputs": [],
   "source": [
    "# Load original dataset\n",
    "# change to your appropriate directory\n",
    "os.chdir(\"C:\\\\Users\\\\LYC\\\\Desktop\\\\SFU\\\\Fall 2020 Courses\\\\STAT 440\\\\Module 2\")\n",
    "\n",
    "y_train = pd.read_csv(\"Ytrain.txt\", delimiter = ' ')"
   ]
  },
  {
   "cell_type": "code",
   "execution_count": 5,
   "metadata": {},
   "outputs": [],
   "source": [
    "y_train.fillna(value=y_train.mean(), inplace=True)"
   ]
  },
  {
   "cell_type": "code",
   "execution_count": 13,
   "metadata": {},
   "outputs": [],
   "source": [
    "y_train.to_csv(\"y_train_preprocessed.csv\")"
   ]
  },
  {
   "cell_type": "markdown",
   "metadata": {},
   "source": [
    "# End pre-processing for y_train"
   ]
  }
 ],
 "metadata": {
  "kernelspec": {
   "display_name": "Python 3",
   "language": "python",
   "name": "python3"
  },
  "language_info": {
   "codemirror_mode": {
    "name": "ipython",
    "version": 3
   },
   "file_extension": ".py",
   "mimetype": "text/x-python",
   "name": "python",
   "nbconvert_exporter": "python",
   "pygments_lexer": "ipython3",
   "version": "3.8.3"
  }
 },
 "nbformat": 4,
 "nbformat_minor": 4
}
